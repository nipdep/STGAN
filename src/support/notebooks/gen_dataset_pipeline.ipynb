{
 "metadata": {
  "language_info": {
   "codemirror_mode": {
    "name": "ipython",
    "version": 3
   },
   "file_extension": ".py",
   "mimetype": "text/x-python",
   "name": "python",
   "nbconvert_exporter": "python",
   "pygments_lexer": "ipython3",
   "version": "3.7.6"
  },
  "orig_nbformat": 4,
  "kernelspec": {
   "name": "python3",
   "display_name": "Python 3.7.6 64-bit ('base': conda)"
  },
  "interpreter": {
   "hash": "aacd9efd2e917f2085b49ad3eecd2bc8a974d0bb8b89bc48afae7fa44e9f517f"
  }
 },
 "nbformat": 4,
 "nbformat_minor": 2,
 "cells": [
  {
   "cell_type": "code",
   "execution_count": 1,
   "metadata": {},
   "outputs": [],
   "source": [
    "import pathlib \n",
    "import os\n",
    "import pandas as pd  \n",
    "import random\n",
    "from keras.preprocessing.image import img_to_array, load_img\n",
    "from numpy import asarray, stack, concatenate, expand_dims, savez_compressed, zeros"
   ]
  },
  {
   "cell_type": "code",
   "execution_count": 2,
   "metadata": {},
   "outputs": [],
   "source": [
    "def load_images(path, size=(128,128), n=1000):\n",
    "    img_list = []\n",
    "    filenames = []\n",
    "    m = 0\n",
    "    for file in os.listdir(path):\n",
    "        pixels = load_img(os.path.join(path,file), target_size=size)\n",
    "        pixels = img_to_array(pixels)\n",
    "        img_list.append(pixels)\n",
    "        filenames.append(file.rstrip('.jpg'))\n",
    "        m += 1\n",
    "        if m >= n:\n",
    "            break\n",
    "    return asarray(img_list),filenames"
   ]
  },
  {
   "cell_type": "code",
   "execution_count": 3,
   "metadata": {},
   "outputs": [],
   "source": [
    "path = '../../../data/data/styles'\n",
    "pixels, images = load_images(path)"
   ]
  },
  {
   "cell_type": "code",
   "execution_count": 4,
   "metadata": {},
   "outputs": [
    {
     "output_type": "execute_result",
     "data": {
      "text/plain": [
       "['la_muse',\n",
       " 'rain_princess',\n",
       " 'the_scream',\n",
       " 'the_shipwreck_of_the_minotaur',\n",
       " 'udnie',\n",
       " 'wave']"
      ]
     },
     "metadata": {},
     "execution_count": 4
    }
   ],
   "source": [
    "images"
   ]
  },
  {
   "cell_type": "code",
   "execution_count": 5,
   "metadata": {},
   "outputs": [],
   "source": [
    "def gen_img_metric(root_path, style_fld, image_size, n):\n",
    "    style_pixels, styles = load_images(os.path.join(root_path,style_fld))\n",
    "    tr_list = []\n",
    "    for style in styles:\n",
    "        tr_pixels, _ = load_images(os.path.join(root_path, 'NIPS_'+style), size=image_size, n=n )\n",
    "        tr_list.append(tr_pixels)\n",
    "    trt_metrics = stack(tr_list, axis=0)\n",
    "    return trt_metrics, style_pixels"
   ]
  },
  {
   "cell_type": "code",
   "execution_count": 6,
   "metadata": {},
   "outputs": [],
   "source": [
    "def gen_gan_dataset(root_path, cnt_fld, style_fld, image_size=(128, 128), n=1000):\n",
    "    cnt_pixels, fn = load_images(os.path.join(root_path, cnt_fld), size=image_size, n=n)\n",
    "    print(f'content pixel metric shape : {cnt_pixels.shape}')\n",
    "    tr_metrics, style_pixels = gen_img_metric(root_path, style_fld, image_size, n)\n",
    "    print(f'style pixel metric shape : {style_pixels.shape}')\n",
    "    print(f'tranfer metrics pixel metric shape : {tr_metrics.shape}')\n",
    "    wcnt_mat = concatenate([expand_dims(cnt_pixels, axis=0), tr_metrics], axis=0)\n",
    "    print(f'with content transfer metrics pixel metric shape : {wcnt_mat.shape}')\n",
    "    st_shape = list(style_pixels.shape)\n",
    "    st_shape[0] = 1\n",
    "    st_pix = concatenate([zeros(st_shape), style_pixels], axis=0)\n",
    "    print(f'padded style pixel metric shape : {st_pix.shape}')\n",
    "    full_mat = concatenate([expand_dims(st_pix, axis=1), wcnt_mat], axis=1)\n",
    "    print(f'final full metric shape : {full_mat.shape}')\n",
    "    return full_mat"
   ]
  },
  {
   "cell_type": "code",
   "execution_count": 7,
   "metadata": {},
   "outputs": [
    {
     "output_type": "stream",
     "name": "stdout",
     "text": [
      "content pixel metric shape : (1000, 128, 128, 3)\n",
      "style pixel metric shape : (6, 128, 128, 3)\n",
      "tranfer metrics pixel metric shape : (6, 1000, 128, 128, 3)\n",
      "with content transfer metrics pixel metric shape : (7, 1000, 128, 128, 3)\n",
      "padded style pixel metric shape : (7, 128, 128, 3)\n",
      "final full metric shape : (7, 1001, 128, 128, 3)\n"
     ]
    }
   ],
   "source": [
    "root = '../../../data/data/'\n",
    "mat = gen_gan_dataset(root,'NIPS_2017', 'styles')"
   ]
  },
  {
   "cell_type": "code",
   "execution_count": 9,
   "metadata": {},
   "outputs": [],
   "source": [
    "mat_file = '../../../data/data/full_matrics.npz'\n",
    "savez_compressed(mat_file, mat)"
   ]
  },
  {
   "cell_type": "code",
   "execution_count": null,
   "metadata": {},
   "outputs": [],
   "source": []
  }
 ]
}